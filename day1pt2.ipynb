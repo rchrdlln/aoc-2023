{
  "nbformat": 4,
  "nbformat_minor": 0,
  "metadata": {
    "colab": {
      "provenance": [],
      "mount_file_id": "1bheJ_rLoImu93Jn6XEle5Sp_NVvGxO3O",
      "authorship_tag": "ABX9TyNbA2fpYOofMxpbadAORT4x",
      "include_colab_link": true
    },
    "kernelspec": {
      "name": "python3",
      "display_name": "Python 3"
    },
    "language_info": {
      "name": "python"
    }
  },
  "cells": [
    {
      "cell_type": "markdown",
      "metadata": {
        "id": "view-in-github",
        "colab_type": "text"
      },
      "source": [
        "<a href=\"https://colab.research.google.com/github/rchrdlln/aoc-2023/blob/main/day1pt2.ipynb\" target=\"_parent\"><img src=\"https://colab.research.google.com/assets/colab-badge.svg\" alt=\"Open In Colab\"/></a>"
      ]
    },
    {
      "cell_type": "code",
      "execution_count": 121,
      "metadata": {
        "colab": {
          "base_uri": "https://localhost:8080/"
        },
        "id": "zwfoZPUHpy43",
        "outputId": "ce0ff452-4235-4b4a-833a-9941ecbe70a1"
      },
      "outputs": [
        {
          "output_type": "stream",
          "name": "stdout",
          "text": [
            "total = 53340\n"
          ]
        }
      ],
      "source": [
        "import string\n",
        "\n",
        "spout = [\"zero\",\"one\",\"two\",\"three\",\"four\",\"five\",\"six\",\"seven\",\"eight\",\"nine\"]\n",
        "\n",
        "def getvalue(x):\n",
        "  out = []\n",
        "  subout = \"\"\n",
        "  for y in range(0, len(x)):\n",
        "    if x[y] not in string.ascii_lowercase:\n",
        "      subout += x[y]\n",
        "    else:\n",
        "      if y == 2:\n",
        "        if x[0:y+1] in spout:\n",
        "          subout += str(spout.index(x[0:y+1]))\n",
        "      if y == 3:\n",
        "        for z in range(3,2,-1):\n",
        "          if x[y-z:y+1] in spout:\n",
        "            subout += str(spout.index(x[y-z:y+1]))\n",
        "      if y > 3:\n",
        "        for z in range(4,1,-1):\n",
        "          if x[y-z:y+1] in spout:\n",
        "            subout += str(spout.index(x[y-z:y+1]))\n",
        "        else:\n",
        "          pass\n",
        "\n",
        "  if len(subout) == 0:\n",
        "    subout = \"0\"\n",
        "  else:\n",
        "    return(subout[0] + subout[-1])\n",
        "\n",
        "def main():\n",
        "  total = 0\n",
        "  for l in open(\"/content/drive/MyDrive/2023aoc/day1input.txt\"):\n",
        "    l = l.strip()\n",
        "    subtotal = 0\n",
        "    subtotal += int(getvalue(l))\n",
        "    total += subtotal\n",
        "  print(\"total =\", total)\n",
        "\n",
        "main()\n",
        "\n",
        "\n",
        "\n",
        "\n",
        "\n"
      ]
    },
    {
      "cell_type": "code",
      "source": [],
      "metadata": {
        "id": "lbrFwyS_qrCP"
      },
      "execution_count": null,
      "outputs": []
    }
  ]
}