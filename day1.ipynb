{
  "nbformat": 4,
  "nbformat_minor": 0,
  "metadata": {
    "colab": {
      "provenance": [],
      "mount_file_id": "1Yilv9cCjWqu_ZCszxw4kpjChBotfdytU",
      "authorship_tag": "ABX9TyPiT0/fwxD8DapXwR6yczAs",
      "include_colab_link": true
    },
    "kernelspec": {
      "name": "python3",
      "display_name": "Python 3"
    },
    "language_info": {
      "name": "python"
    }
  },
  "cells": [
    {
      "cell_type": "markdown",
      "metadata": {
        "id": "view-in-github",
        "colab_type": "text"
      },
      "source": [
        "<a href=\"https://colab.research.google.com/github/rchrdlln/aoc-2023/blob/main/day1.ipynb\" target=\"_parent\"><img src=\"https://colab.research.google.com/assets/colab-badge.svg\" alt=\"Open In Colab\"/></a>"
      ]
    },
    {
      "cell_type": "code",
      "execution_count": 1,
      "metadata": {
        "colab": {
          "base_uri": "https://localhost:8080/"
        },
        "id": "zwfoZPUHpy43",
        "outputId": "37b51bcf-5584-4b3d-fa2e-cf75cc569b08"
      },
      "outputs": [
        {
          "output_type": "stream",
          "name": "stdout",
          "text": [
            "total = 52974\n"
          ]
        }
      ],
      "source": [
        "import string\n",
        "\n",
        "def getvalue(x):\n",
        "  subout = \"\"\n",
        "  for y in x:\n",
        "    if y not in string.ascii_lowercase:\n",
        "      subout += y\n",
        "    else:\n",
        "      pass\n",
        "  return(int(subout[0] + subout[-1]))\n",
        "\n",
        "def main():\n",
        "  total = 0\n",
        "  for l in open(\"/content/drive/MyDrive/2023aoc/day1input.txt\"):\n",
        "    l = l.strip()\n",
        "    subtotal = 0\n",
        "    subtotal += int(getvalue(l))\n",
        "    total += subtotal\n",
        "  print(\"total =\", total)\n",
        "\n",
        "main()\n",
        "\n",
        "\n",
        "\n",
        "\n",
        "\n"
      ]
    }
  ]
}