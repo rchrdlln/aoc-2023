{
  "nbformat": 4,
  "nbformat_minor": 0,
  "metadata": {
    "colab": {
      "provenance": [],
      "gpuType": "T4",
      "mount_file_id": "1yyRTQbdGSg6Y-fFRJnaNOIiT61vxeZ18",
      "authorship_tag": "ABX9TyP3QqCYIPqKRdqRgfdOcbsq",
      "include_colab_link": true
    },
    "kernelspec": {
      "name": "python3",
      "display_name": "Python 3"
    },
    "language_info": {
      "name": "python"
    },
    "accelerator": "GPU"
  },
  "cells": [
    {
      "cell_type": "markdown",
      "metadata": {
        "id": "view-in-github",
        "colab_type": "text"
      },
      "source": [
        "<a href=\"https://colab.research.google.com/github/rchrdlln/aoc-2023/blob/main/day4.ipynb\" target=\"_parent\"><img src=\"https://colab.research.google.com/assets/colab-badge.svg\" alt=\"Open In Colab\"/></a>"
      ]
    },
    {
      "cell_type": "code",
      "execution_count": 2,
      "metadata": {
        "colab": {
          "base_uri": "https://localhost:8080/"
        },
        "id": "UBj23voqapYI",
        "outputId": "2b3ed27c-6302-49a8-cc76-2e1c74304fec"
      },
      "outputs": [
        {
          "output_type": "stream",
          "name": "stdout",
          "text": [
            "\n",
            "total = 13\n"
          ]
        }
      ],
      "source": [
        "#day4pt1\n",
        "\n",
        "def getlist(x):\n",
        "  out =[]\n",
        "  for l in open(x):\n",
        "    out.append(l.strip())\n",
        "  return(out)\n",
        "\n",
        "def brk(x):\n",
        "  out = []\n",
        "  z1 = x.split(\":\")[1]\n",
        "  z2 = z1.split(\"|\")\n",
        "  z3 = [x for x in z2[0].split()]\n",
        "  z4 = [x for x in z2[1].split()]\n",
        "  out.append(z3)\n",
        "  out.append(z4)\n",
        "  return(out)\n",
        "\n",
        "def chk(x):\n",
        "  total = 0\n",
        "  for i in range(len(x[0])):\n",
        "    if x[0][i] in x[1]:\n",
        "      if total == 0:\n",
        "        total += 1\n",
        "      elif total > 0:\n",
        "        total = total * 2\n",
        "  return(total)\n",
        "\n",
        "\n",
        "def main():\n",
        "  x = getlist(\"/content/drive/MyDrive/2023aoc/day4pt1_test.txt\")\n",
        "  #x = getlist(\"/content/drive/MyDrive/2023aoc/day4input.txt\")\n",
        "\n",
        "\n",
        "  total = 0\n",
        "  for y in x:\n",
        "    total += chk(brk(y))\n",
        "  print(\"\")\n",
        "  print(\"total =\", total)\n",
        "\n",
        "main()\n"
      ]
    },
    {
      "cell_type": "code",
      "source": [
        "#day4pt2\n",
        "#final\n",
        "\n",
        "#returns a list of lists\n",
        "def getlist(x):\n",
        "  out =[]\n",
        "  for l in open(x):\n",
        "    out.append(l.strip())\n",
        "  return(out)\n",
        "\n",
        "# returns [card number; [numbers to match in next group;] [next group]]\n",
        "def brk(x):\n",
        "  out = []\n",
        "  z0 = int(x.split(\":\")[0].split()[1])\n",
        "  z1 = x.split(\":\")[1]\n",
        "  z2 = z1.split(\"|\")\n",
        "  z3 = [x for x in z2[0].split()]\n",
        "  z4 = [x for x in z2[1].split()]\n",
        "  out.append(z0)\n",
        "  out.append(z3)\n",
        "  out.append(z4)\n",
        "  return(out)\n",
        "\n",
        "#input is a list of: card number; list of items; list of items\n",
        "def chk(x):\n",
        "\n",
        "  #starts with card number\n",
        "  out = [x[0]]\n",
        "  #holds each actual match for each card\n",
        "  sub = []\n",
        "  sub2 = []\n",
        "  for i in range(len(x[1])):\n",
        "    total = 0\n",
        "\n",
        "    if x[1][i] in x[2]:\n",
        "      sub.append(x[1][i])\n",
        "\n",
        "  #appends second field - number of matches\n",
        "  out.append(len(sub))\n",
        "\n",
        "\n",
        "  for j in range(len(sub)):\n",
        "    sub2.append(int(x[0]) + j + 1)\n",
        "\n",
        "  #appends list of subsequent cards based on number of matches\n",
        "  out.append(sub2)\n",
        "  return(out)\n",
        "\n",
        "\n",
        "def main():\n",
        "  #x = getlist(\"/content/drive/MyDrive/2023aoc/day4pt1_test.txt\")\n",
        "  x = getlist(\"/content/drive/MyDrive/2023aoc/day4input.txt\")\n",
        "\n",
        "  #create list containing all relevant info for each card\n",
        "  info = []\n",
        "  for y in x:\n",
        "\n",
        "    info.append(chk(brk(y)))\n",
        "\n",
        "  total = []\n",
        "  for i in info:\n",
        "    total.append(str(i[0]))\n",
        "\n",
        "  for i in range(len(info)):\n",
        "    for j in range(total.count(str(i))):\n",
        "      for k in info[int(i) - 1][2]:\n",
        "        total.append(str(k))\n",
        "\n",
        "  print(\"total =\",len(total))\n",
        "\n",
        "main()\n"
      ],
      "metadata": {
        "colab": {
          "base_uri": "https://localhost:8080/"
        },
        "id": "RygWux9tnviV",
        "outputId": "c351b4bc-b5f3-49ef-8512-525df3431913"
      },
      "execution_count": 1,
      "outputs": [
        {
          "output_type": "stream",
          "name": "stdout",
          "text": [
            "total = 14624680\n"
          ]
        }
      ]
    },
    {
      "cell_type": "code",
      "source": [],
      "metadata": {
        "id": "4SJGdDd8w0yn"
      },
      "execution_count": null,
      "outputs": []
    }
  ]
}